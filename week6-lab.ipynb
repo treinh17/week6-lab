name = input(prompt="What is your name? ")
age = input(prompt="What is your age? ") 
hello = "Hello, " + name + "! "
yearsOld = ("You are " + age + " years old.")
final = hello + yearsOld
print(final)
