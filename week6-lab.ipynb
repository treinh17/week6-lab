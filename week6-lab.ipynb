name = input(prompt="What is your name? ")//insert code
age = input(prompt="What is your age? ")//insert code 
